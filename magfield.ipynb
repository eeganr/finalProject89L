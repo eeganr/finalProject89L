{
 "cells": [
  {
   "cell_type": "code",
   "execution_count": 116,
   "id": "7b552ec1",
   "metadata": {},
   "outputs": [],
   "source": [
    "import math\n",
    "from scipy.integrate import quad\n",
    "import numpy as np"
   ]
  },
  {
   "cell_type": "code",
   "execution_count": 172,
   "id": "e21302ab",
   "metadata": {},
   "outputs": [],
   "source": [
    "# mu_0 constant from magnetism\n",
    "pi = math.pi\n",
    "mu0 = 4e-7 * pi  # in T*m/A (Tesla meter per Ampere)\n",
    "I_0 = 120 # current in Amperes of big solenoid (estimate of resistance 1 Ohm)\n",
    "a = 2.5 / 2 / 100 # radius in meters (2.5 cm diameter)\n",
    "L = (2.5 / 2 / 100) * 2 * pi # circumference\n",
    "n = 10000\n",
    "omega = 2 * pi * 60 # USA 60 Hz frequency\n",
    "rho = 2.82e-8 # resistivity of aluminum in Ohm*m\n",
    "A = 2.5e-5 # estimated area of wire\n",
    "R = rho * L / A"
   ]
  },
  {
   "cell_type": "code",
   "execution_count": 173,
   "id": "62abbd92",
   "metadata": {},
   "outputs": [],
   "source": [
    "emf_crude = pi * a**2 * mu0 * n * I_0 * omega\n",
    "I = emf_crude / R"
   ]
  },
  {
   "cell_type": "code",
   "execution_count": 174,
   "id": "601ee8c1",
   "metadata": {},
   "outputs": [],
   "source": [
    "def BsubR(z):\n",
    "    integral = quad(lambda t: 1/(z*z + 2*a*a*(1 - math.cos(t))), 0, 2 * pi)[0]\n",
    "    return mu0 * I * a * z / (4 * pi) * integral"
   ]
  },
  {
   "cell_type": "code",
   "execution_count": 175,
   "id": "54e7fa89",
   "metadata": {},
   "outputs": [],
   "source": [
    "def forceFromRing(z):\n",
    "    B = BsubR(z)\n",
    "    return I_0 * B * L"
   ]
  },
  {
   "cell_type": "code",
   "execution_count": 176,
   "id": "5e4bbd3d",
   "metadata": {},
   "outputs": [],
   "source": [
    "def forceFromAll(zstart, zstop):\n",
    "    totalF = 0\n",
    "    for i in np.linspace(zstart, zstop, abs(int(n * (zstart - zstop)))):\n",
    "        totalF += forceFromRing(i)\n",
    "    return totalF"
   ]
  },
  {
   "cell_type": "code",
   "execution_count": 177,
   "id": "424b625c",
   "metadata": {},
   "outputs": [
    {
     "data": {
      "text/plain": [
       "np.float64(4.791745054536511)"
      ]
     },
     "execution_count": 177,
     "metadata": {},
     "output_type": "execute_result"
    }
   ],
   "source": [
    "forceFromAll(0.001, 0.1)  # calculating force over a cm or so of solenoid"
   ]
  },
  {
   "cell_type": "code",
   "execution_count": 178,
   "id": "ad84514f",
   "metadata": {},
   "outputs": [
    {
     "data": {
      "text/plain": [
       "np.float64(1.589711322203798)"
      ]
     },
     "execution_count": 178,
     "metadata": {},
     "output_type": "execute_result"
    }
   ],
   "source": [
    "forceFromAll(0.1, 0.2)  # calculating force over a cm or so of solenoid"
   ]
  },
  {
   "cell_type": "code",
   "execution_count": 179,
   "id": "ed00df28",
   "metadata": {},
   "outputs": [
    {
     "data": {
      "text/plain": [
       "np.float64(0.9394501445005168)"
      ]
     },
     "execution_count": 179,
     "metadata": {},
     "output_type": "execute_result"
    }
   ],
   "source": [
    "forceFromAll(0.2, 0.3)  # calculating force over a cm or so of solenoid"
   ]
  }
 ],
 "metadata": {
  "kernelspec": {
   "display_name": "89L",
   "language": "python",
   "name": "python3"
  },
  "language_info": {
   "codemirror_mode": {
    "name": "ipython",
    "version": 3
   },
   "file_extension": ".py",
   "mimetype": "text/x-python",
   "name": "python",
   "nbconvert_exporter": "python",
   "pygments_lexer": "ipython3",
   "version": "3.11.11"
  }
 },
 "nbformat": 4,
 "nbformat_minor": 5
}
